{
 "cells": [
  {
   "cell_type": "markdown",
   "metadata": {},
   "source": [
    "# Sistemas de Recomendación basados en SVD\n",
    "\n",
    "## SVD: Siempre venciendo desafios\n",
    "\n",
    "### Matemática Numérica\n",
    "### Facultad de Matemática y Computación\n",
    "\n",
    "Autores:\n",
    "- Daniel Abad Fundora C212\n",
    "- Anabel Benítez González C211\n",
    "- Raudel Alejandro Gómez Molina C211\n",
    "- Alex Sierra Alcalá C211"
   ]
  },
  {
   "cell_type": "markdown",
   "metadata": {},
   "source": [
    "# Sistemas de Recomendación\n",
    "\n",
    "Desde el nacimiento de internet como tecnología se han abierto nuevas posibilidades que facilitan el acceso a la información, también esta se ha aumentado considerablemente. Tal impacto se ha visto reflejado en todo tipo de áreas, una de ellas es el comercio, donde sitios especializados en internet ofertan millones de productos o servicios, también hay sitios donde la \n",
    "mayoría de datos pueden ser efímeros o de poca utilidad, produciendo un caos de información que, al contrario de satisfacer requerimientos de los usuarios, pueden complicar más su respuesta; para que sea efectiva, depende de la habilidad y experiencia que tenga el usuario para expresar sus necesidades mediante una consulta y está demostrado que en la mayoría de casos es imprecisa y vaga. Por lo anterior surgen los sistemas de recuperación de información, que si bien apuntan a mejorar la forma en que se almacena, representa y organiza la información, su función no es devolver la información deseada por el usuario sino únicamente indicar qué documentos son potencialmente relevantes para dicha necesidad de información. A partir de esto, surge una nueva necesidad de encontrar herramientas que se encarguen de buscar por los usuarios, que los conozcan y recomienden un conjunto limitado de opciones acordes a sus intereses. \n",
    "\n",
    "Un sistema de recomendación se puede definir, de manera formal, como aquel sistema que tiene como principal tarea seleccionar ciertos objetos de acuerdo con los requerimientos del usuario. Estos sistemas son muy atractivos en situaciones donde la cantidad de información que se ofrece al usuario supera ampliamente cualquier capacidad individual de exploración.\n",
    "\n",
    "La creación de un sistema de recomendación cuenta con tres fases principales:\n",
    "- Captura de las preferencias y los gustos e intereses del usuario.\n",
    "- Extracción del conocimiento, aquí el sistema se encarga de interpretar la informacion que recopiló anteriormente para poder predecir los gustos y las preferencias del usuario.\n",
    "- A partir del contenido procesado anteriormente el sistema se encarga de se seleccionar los ítems que podrían interesarle a un determinado usario.\n",
    "\n",
    "Ahora debemos encontrar un mecanismo para procesar toda la información que recopilemos previamente de los usuarios, para ello debemos reducir la dimensionalidad de nuestra matriz de votaciones, ya que esta puede ser muy grande y dispersa, a este proceso lo llamareos \\textit{reducción de la dimensinalidad}. \n",
    "\n",
    "Por lo que es necesario determinar una matriz que sea equivalente a la original y que sea mas concisa a la hora de brindar la información para realizar la recomendación. Esto permite hacer más eficiente el proceso pues solo tendremos que considerar las características principales en vez de analizar completamente toda nuestra extensa matriz original, además esto permite minimizar los problemas relacionados con la presencia de datos erróneos en nuestra recopilación.\n",
    "\n",
    "# SVD (Singular Value Descomposition)\n",
    "\n",
    "La descomposición singular de valores es una \n",
    "técnica de factorización de matrices que permite \n",
    "descomponer una matriz de dimensión nxm A en otras matrices U,\n",
    "S, V tales que :\n",
    "\n",
    "$$ \n",
    "A = U \\cdot \\Sigma \\cdot  V^T  \n",
    "$$\n",
    "\n",
    "Donde :\n",
    "* *U* de tamaño (n, n) es una matriz ortogonal que contiene los vectores singulares izquierdos de *A*.\n",
    "* En $\\Sigma$ que es una matriz diagonal (n,d), cuyos valores son los valores singulares de la matriz *A* ordenados en valor decreciente\n",
    "* En *V* que es una matriz transpuesta (d,d), cuyos valores son los vectores singulares derechos de *A*.\n",
    "\n",
    "Existe una propiedad \n",
    "aplicada a SVD enfocados en los sistemas \n",
    "de recomendación, esta consiste en que \n",
    "reduciendo el número de valores singulares \n",
    "de la matriz $\\Sigma$ a los primeros k valores, se \n",
    "obtendrá una aproximación de la matriz \n",
    "original A, que permite ser reconstruida a \n",
    "partir de las versiones reducidas de las otras \n",
    "matrices cometiendo un cierto error, pero \n",
    "disminuyendo el tamaño. Es decir: \n",
    "\n",
    "$$ \n",
    "A_{n, m} \\approx U_{n, k} \\cdot \\Sigma_{k, k} \\cdot V^T_{k, m}  \n",
    "$$\n",
    "\n",
    "Esta propiedad es derivada del \n",
    "teorema de Eckart-Young que aborda \n",
    "la mejor aproximación a la matriz original \n",
    "A, obteniéndola poniendo a 0 los n valores \n",
    "singulares más pequeños, así se reducirán \n",
    "las matrices al número de valores singulares \n",
    "no nulos que tenga la matriz $\\Sigma$. Esto resulta \n",
    "entonces en la transformación de gran cantidad \n",
    "de datos en su representación reducida, siendo \n",
    "por lo tanto una propiedad muy importante \n",
    "que permite reducir considerablemente el \n",
    "tiempo de cómputo de cálculo y de uso de \n",
    "memoria para las tres matrices.\n",
    "\n",
    "# Filtrado Colaborativo\n",
    "\n",
    "El filtrado colaborativo es un método para hacer predicciones automáticas (filtrado) sobre los intereses de un usuario mediante la recopilación de las preferencias o gustos de información de muchos usuarios (colaborador). El Filtrado colaborativo se basa, en que si una persona A tiene la misma opinión que una persona B sobre un tema, A es más probable que tenga la misma opinión que B en otro tema diferente que la opinión que tendría una persona elegida azar. \n",
    "\n",
    "Dentro del filtrado colaborativo, es necesario el \n",
    "manejo de la matriz de votaciones de usuarios \n",
    "e ítems, por lo tanto, es posible considerar esta \n",
    "matriz como la base para aplicar SVD y obtener la \n",
    "factorización de matrices U, S y V. Luego, usando \n",
    "el teorema de Eckar-Youn, se puede reducir a k\n",
    "dimensiones. La matriz de factorización sería:\n",
    "\n",
    "$$ \n",
    "A_{usuarios, ítems} \\approx U_{usuarios, k} \\cdot \\Sigma_{k, k} \\cdot V^T_{k, ítems}\n",
    "$$\n",
    "\n",
    "Por otro lado, es posible simplificar \n",
    "el proceso de SVD obteniendo solo los \n",
    "factores de usuarios e ítems, esto es posible \n",
    "descomponiendo la matriz $\\Sigma$ en dos matrices \n",
    "iguales, factores de usuarios *Ufac* y factores de \n",
    "ítems *Ifac* de esta manera:\n",
    "\n",
    "$$\n",
    "\\Sigma_{k,k} = \n",
    "\\left(\\begin{array}{}\n",
    "\\lambda_{1} &  & ...\\\\\n",
    "& \\lambda_{2}\\\\\n",
    "... \\\\\n",
    "& & \\lambda_{k}\n",
    "\\end{array}\\right)\n",
    "$$\n",
    "\n",
    "$$\n",
    "\\Sigma_{k,k} = \n",
    "\\left(\\begin{array}{}\n",
    "\\sqrt{\\lambda_{1}} &  & ...\\\\\n",
    "& \\sqrt{\\lambda_{2}}\\\\\n",
    "... \\\\\n",
    "& & \\sqrt{\\lambda_{k}}\n",
    "\\end{array}\\right) \n",
    "\\cdot \n",
    "\\left(\\begin{array}{}\n",
    "\\sqrt{\\lambda_{1}} &  & ...\\\\\n",
    "& \\sqrt{\\lambda_{2}}\\\\\n",
    "... \\\\\n",
    "& & \\sqrt{\\lambda_{k}}\n",
    "\\end{array}\\right)\n",
    "$$\n",
    "\n",
    "Nota : Los $\\lambda_{i}$ son valores singulares de A.\n",
    "\n",
    "Por tanto la matriz de votaciones se puede expresar como *Votos* = *Ufact* $\\cdot$ *Ifact*, donde :\n",
    "\n",
    "$$\n",
    "Ufact = U_{n, k} \\cdot\n",
    "\\left(\\begin{array}{}\n",
    "\\sqrt{\\lambda_{1}} &  & ...\\\\\n",
    "& \\sqrt{\\lambda_{2}}\\\\\n",
    "... \\\\\n",
    "& & \\sqrt{\\lambda_{k}}\n",
    "\\end{array}\\right)\n",
    "$$\n",
    "\n",
    "\n",
    "$$\n",
    "Ifact =\n",
    "\\left(\\begin{array}{}\n",
    "\\sqrt{\\lambda_{1}} &  & ...\\\\\n",
    "& \\sqrt{\\lambda_{2}}\\\\\n",
    "... \\\\\n",
    "& & \\sqrt{\\lambda_{k}}\n",
    "\\end{array}\\right)\n",
    "\\cdot\n",
    "V^T_{k, m}  \n",
    "$$\n",
    "\n",
    "Para hallar esta aproximación, la idea es buscar los \n",
    "factores de usuarios e ítems a partir de la matriz \n",
    "de votación abordándolo como un problema de \n",
    "regresión, donde se quieren encontrar los valores \n",
    "de las matrices de factores. Así, si se \n",
    "considera a $q_{i}$ al vector que represente los \n",
    "factores de un ítem y $p_{j}$ al vector que representa \n",
    "los factores del usuario se tendría que cumplir :\n",
    "\n",
    "$$\n",
    "A_{i, j} = q^T_{i} \\cdot p_{j} \\approx \\sum_{n = 1}^{k} q_{i, n}\\cdot p_{n, j}\n",
    "$$\n",
    "\n",
    "Ahora solo se ajustan los factores de \n",
    "aquellos usuarios que hayan definido un voto \n",
    "reduciendo considerablemente el sistema de \n",
    "ecuaciones y solucionando el problema de la \n",
    "dispersión, cometiendo un pequeño error $e_{i, j}$ = |$A_{i, j}$ - $q^T_{i} \\cdot p_{j}$|. Debido a que el error absoluto es una \n",
    "función complicada de tratar, se usará el error \n",
    "cuadrado medio:\n",
    "\n",
    "$$\n",
    "(e_{i, j})^2 = (A_{i, j} - q^T_{i} \\cdot p_{j})^2 \\approx (A_{i, j} - \\sum q_{i, n}\\cdot p_{n, j})^2\n",
    "$$\n",
    "\n",
    "O sea, intentar encontrar el error mínimo para hacer la mejor aproximación de la siguiente forma:\n",
    "\n",
    "$$\n",
    "min_{p, q} = \\sum (A_{i, j} - q_{i, n}\\cdot p_{n, j})^2\n",
    "$$\n",
    "\n",
    "Pero es necesario además hacer una regularización para evitar el *Outfitting*, así, es posible llegar a:\n",
    "\n",
    "$$\n",
    "(e_{i, j})^2 = (A_{i, j} - \\sum q_{i, n}\\cdot p_{n, j})^2 + \\frac{\\lambda}{2} \\cdot (||q_{i}||^2 + ||p_{j}||^2) \\space (1)\n",
    "$$\n",
    "\n",
    "Donde $\\lambda$ es una constante de regularización.\n",
    "\n",
    "Para encontrar el mínimo de la función ya detallada \n",
    "existen técnicas como la del descenso del gradiente que \n",
    "buscan ajustar las matrices de factores poco a \n",
    "poco de manera automática. Esto se realizará en la \n",
    "función (1), con el fin de encontrar el mínimo de \n",
    "la función, o acercarse lo suficiente a la solución. Esta técnica consiste en ir \n",
    "moviéndose poco a poco por la función hasta encontrar el mínimo evaluando, la función en un punto dado para \n",
    "luego moverse una distancia hacia otro punto; \n",
    "ahora se calcula la derivada en ese punto y \n",
    "se desplaza al lado opuesto de la derivada de \n",
    "la función que se quiere minimizar.\n",
    "\n",
    "Aplicando descenso del gradiente en (1) se tiene:\n",
    "\n",
    "$$\n",
    "\\frac{\\delta(e_{i, j})^2}{\\delta p_{i, n}} = -2q_{n, j}\\cdot (A_{i, j} - \\sum q_{i, n}\\cdot p_{n, j}) + \\lambda p_{i, n} \\space (2)\n",
    "$$\n",
    "\n",
    "$$\n",
    "\\frac{\\delta(e_{i, j})^2}{\\delta q_{n, j}} = -2p_{i, n}\\cdot (A_{i, j} - \\sum q_{i, n}\\cdot p_{n, j}) + \\lambda q_{n, j} \\space (3)\n",
    "$$\n",
    "\n",
    "Teniendo ya el gradiente, solo queda \n",
    "aplicar las reglas de actualización tanto para $p_{i, n}$\n",
    "como para $q_{n, j}$ en (2), (3) con las constantes de \n",
    "regularización y aprendizaje. Así, la regla de \n",
    "actualización parte de $\\sigma_{n + 1} = \\sigma_{n} - \\alpha \\nabla f(x)$, donde $\\sigma_{n + 1}$ es el nuevo valor en la matriz de votaciones, $\\sigma_{n}$ su valor actual, $\\alpha$ constante de aprendizaje y $\\nabla f(x)$ es el gradiente ya obtenido. Dando como resultado :\n",
    "\n",
    "Para $p_{i, n}$ :\n",
    "\n",
    "$$\n",
    "p_{i, n}^{'} = p_{i, n} + \\alpha[2q_{n, j}\\cdot (A_{i, j} - \\sum q_{i, n}\\cdot p_{n, j}) - \\lambda p_{i, n}] \\space (4)\n",
    "$$\n",
    "\n",
    "Para $p_{n, j}$ :\n",
    "\n",
    "$$\n",
    "q_{n, j}^{'} = q_{n, j} + \\alpha[2p_{i, n}\\cdot (A_{i, j} - \\sum q_{i, n}\\cdot p_{n, j}) - \\lambda q_{n, j}] \\space (5)\n",
    "$$\n",
    "\n",
    "El enfoque se plasma en las expresiones (4) y \n",
    "(5) que serán las que actualizarán los valores de \n",
    "la matriz de votaciones a partir de cada *Ephochs*, \n",
    "tanto para los factores de usuarios, como para los \n",
    "factores de ítems.\n"
   ]
  },
  {
   "cell_type": "markdown",
   "metadata": {},
   "source": [
    "## Aplicación práctica\n",
    "\n",
    "Lo que se hace con los motores de recomendación, es para una película que tu no has visto, teniendo en cuenta tus características y las de otros usuarios. Mediante SVD nos quedamos con los usuarios que son parecidos a ti, y vemos las peliculas que no has visto\n",
    "## Preprocesamos los datos"
   ]
  },
  {
   "cell_type": "markdown",
   "metadata": {},
   "source": [
    "###  Cargar Bibliotecas"
   ]
  },
  {
   "cell_type": "code",
   "execution_count": 1,
   "metadata": {},
   "outputs": [],
   "source": [
    "import pandas as pd\n",
    "from pandas.core.frame import DataFrame\n",
    "from pandas.io.parsers import read_csv\n",
    "from surprise import SVDpp\n",
    "from surprise import Dataset, Reader\n",
    "from surprise.model_selection import train_test_split\n",
    "from surprise import accuracy\n",
    "from collections import defaultdict"
   ]
  },
  {
   "cell_type": "markdown",
   "metadata": {},
   "source": [
    "### Cargar Datos "
   ]
  },
  {
   "cell_type": "code",
   "execution_count": 2,
   "metadata": {},
   "outputs": [],
   "source": [
    "items = pd.read_csv(\"data/items.csv\")\n",
    "ratings = pd.read_csv(\"data/ratings.csv\")\n",
    "df_items = ratings.merge(items, on=\"itemId\", how=\"left\")\n",
    "df_items_to_model = df_items[df_items.columns[:3]]"
   ]
  },
  {
   "cell_type": "markdown",
   "metadata": {},
   "source": [
    "### Preprocesamiento"
   ]
  },
  {
   "cell_type": "code",
   "execution_count": 3,
   "metadata": {},
   "outputs": [],
   "source": [
    "reader = Reader()\n",
    "data = Dataset.load_from_df(df_items_to_model[df_items.columns[:3]], reader)\n",
    "train, test = train_test_split(data, test_size=0.25)\n"
   ]
  },
  {
   "cell_type": "markdown",
   "metadata": {},
   "source": [
    "### Entrenamiento y testing"
   ]
  },
  {
   "cell_type": "code",
   "execution_count": 4,
   "metadata": {},
   "outputs": [],
   "source": [
    "svd = SVDpp()\n",
    "svd.fit(train)\n",
    "preds = svd.test(test)"
   ]
  },
  {
   "cell_type": "markdown",
   "metadata": {},
   "source": [
    "### Evaluación\n",
    "\n",
    "It's a good evaluations marks so let's train the model with the complete Dataset"
   ]
  },
  {
   "cell_type": "code",
   "execution_count": 5,
   "metadata": {},
   "outputs": [
    {
     "name": "stdout",
     "output_type": "stream",
     "text": [
      "MAE:  0.6637\n",
      "RMSE: 0.8647\n"
     ]
    },
    {
     "data": {
      "text/plain": [
       "0.8647039388289505"
      ]
     },
     "execution_count": 5,
     "metadata": {},
     "output_type": "execute_result"
    }
   ],
   "source": [
    "accuracy.mae(preds)\n",
    "accuracy.rmse(preds)"
   ]
  },
  {
   "cell_type": "markdown",
   "metadata": {},
   "source": [
    "### Entrenar todos los datos"
   ]
  },
  {
   "cell_type": "code",
   "execution_count": 6,
   "metadata": {},
   "outputs": [
    {
     "data": {
      "text/plain": [
       "Prediction(uid=1, iid=1, r_ui=None, est=4.6197697754454365, details={'was_impossible': False})"
      ]
     },
     "execution_count": 6,
     "metadata": {},
     "output_type": "execute_result"
    }
   ],
   "source": [
    "trainfull = data.build_full_trainset()\n",
    "\n",
    "svd = SVDpp()\n",
    "svd.fit(trainfull)\n",
    "\n",
    "svd.predict(uid=1, iid=1)"
   ]
  },
  {
   "cell_type": "markdown",
   "metadata": {},
   "source": [
    "### Función de Recomendación"
   ]
  },
  {
   "cell_type": "code",
   "execution_count": 7,
   "metadata": {},
   "outputs": [],
   "source": [
    "def recommend_system(userId, dataframe, algorithm, n_commends):\n",
    "    \"\"\"\n",
    "with the parameters, returns back the top n recommends items.\n",
    "\n",
    "Parameters\n",
    "-----------\n",
    "\n",
    "userId: the user ID of the person that we want recommendations\n",
    "\n",
    "dataframe: the DataFrame of items.\n",
    "\n",
    "algorithm: the algorith used to recommend items.\n",
    "\n",
    "n_commends: the number of items recommended.\n",
    "\n",
    "\n",
    "return\n",
    "------\n",
    "\n",
    "ID of items that a specific user will like.\n",
    "\n",
    "    \"\"\"\n",
    "    item_ids = dataframe['itemId'].to_list()\n",
    "    items_watched = dataframe[dataframe[\"userId\"] == userId][\"itemId\"]\n",
    "    items_no_watched = [item for item in item_ids if item not in items_watched]\n",
    "\n",
    "    preds = [algorithm.predict(uid=userId, iid=movie) for movie in items_no_watched]\n",
    "    commends_ratting = {pred[1]:pred[3] for pred in preds}\n",
    "    order_dict = {k: v for k, v in sorted(commends_ratting.items(), key=lambda item: item[1])}\n",
    "\n",
    "    top_predictions = list(order_dict.keys())[:n_commends]\n",
    "\n",
    "    return dataframe[dataframe[\"itemId\"].isin(top_predictions)][[\"title\", \"genres\"]].drop_duplicates()"
   ]
  },
  {
   "cell_type": "code",
   "execution_count": 8,
   "metadata": {},
   "outputs": [
    {
     "name": "stdout",
     "output_type": "stream",
     "text": [
      "ID of the items recommended:                                  title                          genres\n",
      "1197                   Twilight (2008)  Drama|Fantasy|Romance|Thriller\n",
      "2791   Blair Witch Project, The (1999)           Drama|Horror|Thriller\n",
      "10294  Witches of Eastwick, The (1987)  Comedy|Fantasy|Horror|Thriller\n",
      "14369               Spice World (1997)                          Comedy\n",
      "23088                Jack Frost (1998)           Children|Comedy|Drama\n"
     ]
    }
   ],
   "source": [
    "items_recommended = recommend_system(3, df_items, svd, 5)\n",
    "print(\"ID of the items recommended:\", items_recommended)"
   ]
  },
  {
   "cell_type": "markdown",
   "metadata": {},
   "source": [
    "### Comprobar los resultados"
   ]
  },
  {
   "cell_type": "code",
   "execution_count": 9,
   "metadata": {},
   "outputs": [],
   "source": [
    "def check_items_user(userId, dataframe, n):\n",
    "    return dataframe[dataframe[\"userId\"] ==userId].sort_values(\"rating\", ascending=False)[:n]"
   ]
  },
  {
   "cell_type": "code",
   "execution_count": 10,
   "metadata": {},
   "outputs": [
    {
     "name": "stdout",
     "output_type": "stream",
     "text": [
      "Items user likes:      userId  itemId  rating  timestamp  \\\n",
      "231       1    5060     5.0  964984002   \n",
      "185       1    2872     5.0  964981680   \n",
      "89        1    1291     5.0  964981909   \n",
      "90        1    1298     5.0  964984086   \n",
      "190       1    2948     5.0  964982191   \n",
      "189       1    2947     5.0  964982176   \n",
      "188       1    2944     5.0  964981872   \n",
      "186       1    2899     5.0  964982703   \n",
      "184       1    2858     5.0  964980868   \n",
      "179       1    2700     5.0  964980985   \n",
      "98        1    1517     5.0  964981107   \n",
      "100       1    1573     5.0  964982290   \n",
      "102       1    1587     5.0  964982346   \n",
      "103       1    1617     5.0  964982951   \n",
      "181       1    2761     5.0  964982703   \n",
      "105       1    1625     5.0  964983504   \n",
      "88        1    1282     5.0  964982703   \n",
      "87        1    1278     5.0  964983414   \n",
      "86        1    1275     5.0  964982290   \n",
      "85        1    1270     5.0  964983705   \n",
      "\n",
      "                                                 title  \\\n",
      "231                       M*A*S*H (a.k.a. MASH) (1970)   \n",
      "185                                   Excalibur (1981)   \n",
      "89           Indiana Jones and the Last Crusade (1989)   \n",
      "90                         Pink Floyd: The Wall (1982)   \n",
      "190                       From Russia with Love (1963)   \n",
      "189                                  Goldfinger (1964)   \n",
      "188                            Dirty Dozen, The (1967)   \n",
      "186                          Gulliver's Travels (1939)   \n",
      "184                             American Beauty (1999)   \n",
      "179        South Park: Bigger, Longer and Uncut (1999)   \n",
      "98   Austin Powers: International Man of Mystery (1...   \n",
      "100                                    Face/Off (1997)   \n",
      "102                         Conan the Barbarian (1982)   \n",
      "103                           L.A. Confidential (1997)   \n",
      "181                             Iron Giant, The (1999)   \n",
      "105                                   Game, The (1997)   \n",
      "88                                     Fantasia (1940)   \n",
      "87                           Young Frankenstein (1974)   \n",
      "86                                   Highlander (1986)   \n",
      "85                           Back to the Future (1985)   \n",
      "\n",
      "                                        genres  \n",
      "231                           Comedy|Drama|War  \n",
      "185                          Adventure|Fantasy  \n",
      "89                            Action|Adventure  \n",
      "90                               Drama|Musical  \n",
      "190                  Action|Adventure|Thriller  \n",
      "189                  Action|Adventure|Thriller  \n",
      "188                           Action|Drama|War  \n",
      "186               Adventure|Animation|Children  \n",
      "184                              Drama|Romance  \n",
      "179                   Animation|Comedy|Musical  \n",
      "98                     Action|Adventure|Comedy  \n",
      "100                Action|Crime|Drama|Thriller  \n",
      "102                   Action|Adventure|Fantasy  \n",
      "103           Crime|Film-Noir|Mystery|Thriller  \n",
      "181  Adventure|Animation|Children|Drama|Sci-Fi  \n",
      "105                     Drama|Mystery|Thriller  \n",
      "88          Animation|Children|Fantasy|Musical  \n",
      "87                              Comedy|Fantasy  \n",
      "86                    Action|Adventure|Fantasy  \n",
      "85                     Adventure|Comedy|Sci-Fi  \n"
     ]
    }
   ],
   "source": [
    "print(f\"Items user likes:\", check_items_user(1, df_items, 20))"
   ]
  }
 ],
 "metadata": {
  "kernelspec": {
   "display_name": "Python 3.10.6 64-bit",
   "language": "python",
   "name": "python3"
  },
  "language_info": {
   "codemirror_mode": {
    "name": "ipython",
    "version": 3
   },
   "file_extension": ".py",
   "mimetype": "text/x-python",
   "name": "python",
   "nbconvert_exporter": "python",
   "pygments_lexer": "ipython3",
   "version": "3.10.6"
  },
  "orig_nbformat": 2,
  "vscode": {
   "interpreter": {
    "hash": "916dbcbb3f70747c44a77c7bcd40155683ae19c65e1c03b4aa3499c5328201f1"
   }
  }
 },
 "nbformat": 4,
 "nbformat_minor": 2
}
